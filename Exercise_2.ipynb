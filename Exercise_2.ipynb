{
 "cells": [
  {
   "attachments": {},
   "cell_type": "markdown",
   "metadata": {},
   "source": [
    "# Exercise 2: Basic Data Filtering\n",
    "1. Create a List of Mixed Data Types: Create a list that contains a mix of integers, strings, and floats.\n",
    "2. Filter the List: Use list comprehension to create a new list that contains only the integers from the original list.\n",
    "3. Print the New List: Output the filtered list of integers."
   ]
  },
  {
   "cell_type": "code",
   "execution_count": 1,
   "metadata": {},
   "outputs": [
    {
     "name": "stdout",
     "output_type": "stream",
     "text": [
      "The integers are: [2837683, 293846982865736, 87567874567]\n"
     ]
    }
   ],
   "source": [
    "# List of mixed data types\n",
    "mixed_list = [2837683, \"Daniel\", 27.03, \"Enric\", 293846982865736, \"Marios\", 5.0, 87567874567]\n",
    "\n",
    "#Filter the list\n",
    "integers = [item for item in mixed_list if isinstance(item, int)]\n",
    "\n",
    "print(f\"The integers are: {integers}\")"
   ]
  }
 ],
 "metadata": {
  "kernelspec": {
   "display_name": "Python 3",
   "language": "python",
   "name": "python3"
  },
  "language_info": {
   "codemirror_mode": {
    "name": "ipython",
    "version": 3
   },
   "file_extension": ".py",
   "mimetype": "text/x-python",
   "name": "python",
   "nbconvert_exporter": "python",
   "pygments_lexer": "ipython3",
   "version": "3.11.2"
  },
  "orig_nbformat": 4
 },
 "nbformat": 4,
 "nbformat_minor": 2
}
