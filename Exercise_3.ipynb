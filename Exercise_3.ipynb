{
 "cells": [
  {
   "attachments": {},
   "cell_type": "markdown",
   "metadata": {},
   "source": [
    "# Exercise 3: Simple To-Do List\n",
    "1. Create an Empty List: Start with an empty list called todo_list.\n",
    "2. Define Functions:\n",
    "- A function add_task(task) that adds a task to the list.\n",
    "- A function show_tasks() that prints all tasks in the list."
   ]
  },
  {
   "cell_type": "code",
   "execution_count": 1,
   "metadata": {},
   "outputs": [
    {
     "name": "stdout",
     "output_type": "stream",
     "text": [
      "To-Do List:\n",
      "1. Case cracking\n",
      "2. Market sizing simulation\n",
      "3. Grocery shopping\n"
     ]
    }
   ],
   "source": [
    "#Empty list\n",
    "todo_list = []\n",
    "\n",
    "#Define fonctions\n",
    "def add_task(task):\n",
    "    todo_list.append(task)\n",
    "\n",
    "def show_tasks():\n",
    "    print(\"To-Do List:\")\n",
    "    for idx, task in enumerate(todo_list, start=1):\n",
    "        print(f\"{idx}. {task}\")\n",
    "\n",
    "#Test the to_do list functionality\n",
    "add_task(\"Case cracking\")\n",
    "add_task(\"Market sizing simulation\")\n",
    "add_task(\"Grocery shopping\")\n",
    "show_tasks()"
   ]
  }
 ],
 "metadata": {
  "kernelspec": {
   "display_name": "Python 3",
   "language": "python",
   "name": "python3"
  },
  "language_info": {
   "codemirror_mode": {
    "name": "ipython",
    "version": 3
   },
   "file_extension": ".py",
   "mimetype": "text/x-python",
   "name": "python",
   "nbconvert_exporter": "python",
   "pygments_lexer": "ipython3",
   "version": "3.11.2"
  },
  "orig_nbformat": 4
 },
 "nbformat": 4,
 "nbformat_minor": 2
}
