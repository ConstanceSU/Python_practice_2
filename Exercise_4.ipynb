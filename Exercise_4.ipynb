{
 "cells": [
  {
   "attachments": {},
   "cell_type": "markdown",
   "metadata": {},
   "source": [
    "# Exercise 4: Temperature Converter\n",
    "1. Define a Conversion Function: Write a function celsius_to_fahrenheit(celsius) that converts Celsius to Fahrenheit.\n",
    "2. Print the Result: Output the converted temperature for 22oF, 46oF, 51oF and 76oF."
   ]
  },
  {
   "cell_type": "code",
   "execution_count": 1,
   "metadata": {},
   "outputs": [
    {
     "name": "stdout",
     "output_type": "stream",
     "text": [
      "22°C is 71.6°F\n",
      "46°C is 114.8°F\n",
      "51°C is 123.8°F\n",
      "76°C is 168.8°F\n"
     ]
    }
   ],
   "source": [
    "# Conversion function\n",
    "def celsius_to_fahrenheit(celsius):\n",
    "    return (celsius * 9/5) + 32\n",
    "\n",
    "# Print the result\n",
    "celsius_values = [22, 46, 51, 76]\n",
    "for celsius in celsius_values:\n",
    "    fahrenheit = celsius_to_fahrenheit(celsius)\n",
    "    print(f\"{celsius}°C is {fahrenheit}°F\")"
   ]
  }
 ],
 "metadata": {
  "kernelspec": {
   "display_name": "Python 3",
   "language": "python",
   "name": "python3"
  },
  "language_info": {
   "codemirror_mode": {
    "name": "ipython",
    "version": 3
   },
   "file_extension": ".py",
   "mimetype": "text/x-python",
   "name": "python",
   "nbconvert_exporter": "python",
   "pygments_lexer": "ipython3",
   "version": "3.11.2"
  },
  "orig_nbformat": 4
 },
 "nbformat": 4,
 "nbformat_minor": 2
}
